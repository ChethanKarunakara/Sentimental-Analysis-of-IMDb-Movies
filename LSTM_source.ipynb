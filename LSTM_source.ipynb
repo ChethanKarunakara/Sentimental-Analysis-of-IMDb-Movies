{
  "nbformat": 4,
  "nbformat_minor": 0,
  "metadata": {
    "colab": {
      "name": "LSTM_model_2.ipynb",
      "provenance": [],
      "collapsed_sections": []
    },
    "kernelspec": {
      "name": "python3",
      "display_name": "Python 3"
    }
  },
  "cells": [
    {
      "cell_type": "markdown",
      "metadata": {
        "id": "RIp52291q_QQ",
        "colab_type": "text"
      },
      "source": [
        "# Classify IMDB Movie Reviews using an LSTM model in Deep Learning\n",
        "##### I will build a Long Short-Term Memory (LSTM) nerual architecture using Keras to classify English movie reviews (from the IMDB dataset) based on their sentiment, into two classes - Positive and Negative "
      ]
    },
    {
      "cell_type": "markdown",
      "metadata": {
        "id": "Drt6DaMrrZQl",
        "colab_type": "text"
      },
      "source": [
        "##Import the IMDB dataset from Keras\n",
        "##### The IMDB dataset comes inbuilt in the Keras framework"
      ]
    },
    {
      "cell_type": "code",
      "metadata": {
        "id": "Z8U_pJ5dqz0f",
        "colab_type": "code",
        "outputId": "69155264-d52e-46f7-c5d0-dd924bca581d",
        "colab": {
          "base_uri": "https://localhost:8080/",
          "height": 102
        }
      },
      "source": [
        "# Import the dataset from keras.datasets module \n",
        "from keras.datasets import imdb\n",
        "\n",
        "# Limit the maximum size of the vocabulary to VOCAB_SIZE\n",
        "# Only top VOCAB_SIZE most frequently occurring words in the dataset will be considered\n",
        "# Discarding rarely words would help keep a manageable size\n",
        "# Words in the training set which are not among the top VOCAB_SIZE most frequent words, will be marked by the 'out of vocabulary' character.\n",
        "# Words occurring in the test set (but not in the training set) which are not among the top VOCAB_SIZE most frequent words are skipped.\n",
        "VOCAB_SIZE = 20000\n",
        "# Skip the most frequently occurring SKIP_COUNT\n",
        "# These words are often articles/determiner/prepositions (Eg. a, the, an etc) and hence not helpful classifying the reviews\n",
        "SKIP_COUNT = 0\n",
        "# Filter out sentences which are longer than MAX_LENGTH\n",
        "MAX_LENGTH = None\n",
        "\n",
        "print(\"Loading the IMDB dataset...\")\n",
        "(train_data, train_labels), (test_data, test_labels) = imdb.load_data(num_words=VOCAB_SIZE, skip_top=SKIP_COUNT, maxlen=MAX_LENGTH)\n",
        "print(\"Dataset loaded!\")"
      ],
      "execution_count": 2,
      "outputs": [
        {
          "output_type": "stream",
          "text": [
            "Using TensorFlow backend.\n"
          ],
          "name": "stderr"
        },
        {
          "output_type": "stream",
          "text": [
            "Loading the IMDB dataset...\n",
            "Downloading data from https://s3.amazonaws.com/text-datasets/imdb.npz\n",
            "17465344/17464789 [==============================] - 0s 0us/step\n",
            "Dataset loaded!\n"
          ],
          "name": "stdout"
        }
      ]
    },
    {
      "cell_type": "code",
      "metadata": {
        "id": "mWyXknEp1_ik",
        "colab_type": "code",
        "outputId": "14a04669-3ae8-4336-cac0-5f2de59901f5",
        "colab": {
          "base_uri": "https://localhost:8080/",
          "height": 51
        }
      },
      "source": [
        "print(\"Size of training set :\", len(train_data))\n",
        "print(\"Size of test set     :\", len(test_data))"
      ],
      "execution_count": 3,
      "outputs": [
        {
          "output_type": "stream",
          "text": [
            "Size of training set : 25000\n",
            "Size of test set     : 25000\n"
          ],
          "name": "stdout"
        }
      ]
    },
    {
      "cell_type": "code",
      "metadata": {
        "id": "xN1wn-rVsiEv",
        "colab_type": "code",
        "outputId": "d0d5f346-4834-4498-970b-00eda77396d7",
        "colab": {
          "base_uri": "https://localhost:8080/",
          "height": 105
        }
      },
      "source": [
        "print(\"Sample training example:\")\n",
        "print(train_data[3])\n",
        "print(\"Label:\")\n",
        "print(train_labels[3])"
      ],
      "execution_count": 4,
      "outputs": [
        {
          "output_type": "stream",
          "text": [
            "Sample training example:\n",
            "[1, 4, 18609, 16085, 33, 2804, 4, 2040, 432, 111, 153, 103, 4, 1494, 13, 70, 131, 67, 11, 61, 15305, 744, 35, 3715, 761, 61, 5766, 452, 9214, 4, 985, 7, 2, 59, 166, 4, 105, 216, 1239, 41, 1797, 9, 15, 7, 35, 744, 2413, 31, 8, 4, 687, 23, 4, 2, 7339, 6, 3693, 42, 38, 39, 121, 59, 456, 10, 10, 7, 265, 12, 575, 111, 153, 159, 59, 16, 1447, 21, 25, 586, 482, 39, 4, 96, 59, 716, 12, 4, 172, 65, 9, 579, 11, 6004, 4, 1615, 5, 2, 7, 5168, 17, 13, 7064, 12, 19, 6, 464, 31, 314, 11, 2, 6, 719, 605, 11, 8, 202, 27, 310, 4, 3772, 3501, 8, 2722, 58, 10, 10, 537, 2116, 180, 40, 14, 413, 173, 7, 263, 112, 37, 152, 377, 4, 537, 263, 846, 579, 178, 54, 75, 71, 476, 36, 413, 263, 2504, 182, 5, 17, 75, 2306, 922, 36, 279, 131, 2895, 17, 2867, 42, 17, 35, 921, 18435, 192, 5, 1219, 3890, 19, 2, 217, 4122, 1710, 537, 2, 1236, 5, 736, 10, 10, 61, 403, 9, 2, 40, 61, 4494, 5, 27, 4494, 159, 90, 263, 2311, 4319, 309, 8, 178, 5, 82, 4319, 4, 65, 15, 9225, 145, 143, 5122, 12, 7039, 537, 746, 537, 537, 15, 7979, 4, 18665, 594, 7, 5168, 94, 9096, 3987, 15242, 11, 2, 4, 538, 7, 1795, 246, 2, 9, 10161, 11, 635, 14, 9, 51, 408, 12, 94, 318, 1382, 12, 47, 6, 2683, 936, 5, 6307, 10197, 19, 49, 7, 4, 1885, 13699, 1118, 25, 80, 126, 842, 10, 10, 2, 18223, 4726, 27, 4494, 11, 1550, 3633, 159, 27, 341, 29, 2733, 19, 4185, 173, 7, 90, 16376, 8, 30, 11, 4, 1784, 86, 1117, 8, 3261, 46, 11, 2, 21, 29, 9, 2841, 23, 4, 1010, 2, 793, 6, 13699, 1386, 1830, 10, 10, 246, 50, 9, 6, 2750, 1944, 746, 90, 29, 16376, 8, 124, 4, 882, 4, 882, 496, 27, 2, 2213, 537, 121, 127, 1219, 130, 5, 29, 494, 8, 124, 4, 882, 496, 4, 341, 7, 27, 846, 10, 10, 29, 9, 1906, 8, 97, 6, 236, 11120, 1311, 8, 4, 2, 7, 31, 7, 2, 91, 2, 3987, 70, 4, 882, 30, 579, 42, 9, 12, 32, 11, 537, 10, 10, 11, 14, 65, 44, 537, 75, 11876, 1775, 3353, 12716, 1846, 4, 11286, 7, 154, 5, 4, 518, 53, 13243, 11286, 7, 3211, 882, 11, 399, 38, 75, 257, 3807, 19, 18223, 17, 29, 456, 4, 65, 7, 27, 205, 113, 10, 10, 2, 4, 2, 10359, 9, 242, 4, 91, 1202, 11377, 5, 2070, 307, 22, 7, 5168, 126, 93, 40, 18223, 13, 188, 1076, 3222, 19, 4, 13465, 7, 2348, 537, 23, 53, 537, 21, 82, 40, 18223, 13, 2, 14, 280, 13, 219, 4, 2, 431, 758, 859, 4, 953, 1052, 12283, 7, 5991, 5, 94, 40, 25, 238, 60, 2, 4, 15812, 804, 2, 7, 4, 9941, 132, 8, 67, 6, 22, 15, 9, 283, 8, 5168, 14, 31, 9, 242, 955, 48, 25, 279, 2, 23, 12, 1685, 195, 25, 238, 60, 796, 13713, 4, 671, 7, 2804, 5, 4, 559, 154, 888, 7, 726, 50, 26, 49, 7008, 15, 566, 30, 579, 21, 64, 2574]\n",
            "Label:\n",
            "1\n"
          ],
          "name": "stdout"
        }
      ]
    },
    {
      "cell_type": "code",
      "metadata": {
        "id": "jiMtP6VU44Qv",
        "colab_type": "code",
        "outputId": "c4b7e3d9-98f7-474c-e0cf-4607994cc8e0",
        "colab": {
          "base_uri": "https://localhost:8080/",
          "height": 105
        }
      },
      "source": [
        "# Get the mapping from each word in vocabulary to its index\n",
        "word_to_index = imdb.get_word_index()\n",
        "\n",
        "index_to_word = dict ( [(idx, word) for (word, idx) in word_to_index.items()] )\n",
        "\n",
        "\n",
        "# Check the review in English too\n",
        "english_review = ' '.join ( [index_to_word.get(idx-3, '?') for idx in train_data[3]] )\n",
        "# NOTE: In the dataset, \n",
        "#       index 0 is reserved for \"padding\",\n",
        "#       index 1 is reserved for \"start of sequence\"\n",
        "#       index 2 is reserved for \"unknown\"\n",
        "#\n",
        "# However, this is not followed in the word-to-index mapping obtained from imdb.get_word_index()\n",
        "# In the mapping, index 0 is for None, and thereafter, index i maps to the word at index i-3 (i.e. \"padding\", \"start of sequence\" and \"unknown\" are skipped in the mapping)\n",
        "# Hence the change in the above line of code \n",
        "\n",
        "print(\"Earlier training example in English:\")\n",
        "print(english_review)"
      ],
      "execution_count": 5,
      "outputs": [
        {
          "output_type": "stream",
          "text": [
            "Downloading data from https://s3.amazonaws.com/text-datasets/imdb_word_index.json\n",
            "1646592/1641221 [==============================] - 0s 0us/step\n",
            "Earlier training example in English:\n",
            "? the scots excel at storytelling the traditional sort many years after the event i can still see in my mind's eye an elderly lady my friend's mother retelling the battle of ? she makes the characters come alive her passion is that of an eye witness one to the events on the ? heath a mile or so from where she lives br br of course it happened many years before she was born but you wouldn't guess from the way she tells it the same story is told in bars the length and ? of scotland as i discussed it with a friend one night in ? a local cut in to give his version the discussion continued to closing time br br stories passed down like this become part of our being who doesn't remember the stories our parents told us when we were children they become our invisible world and as we grow older they maybe still serve as inspiration or as an emotional reservoir fact and fiction blend with ? role models warning stories ? magic and mystery br br my name is ? like my grandfather and his grandfather before him our protagonist introduces himself to us and also introduces the story that stretches back through generations it produces stories within stories stories that evoke the impenetrable wonder of scotland its rugged mountains shrouded in ? the stuff of legend yet ? is rooted in reality this is what gives it its special charm it has a rough beauty and authenticity tempered with some of the finest gaelic singing you will ever hear br br ? angus visits his grandfather in hospital shortly before his death he burns with frustration part of him yearns to be in the twenty first century to hang out in ? but he is raised on the western ? among a gaelic speaking community br br yet there is a deeper conflict within him he yearns to know the truth the truth behind his ? ancient stories where does fiction end and he wants to know the truth behind the death of his parents br br he is pulled to make a last fateful journey to the ? of one of ? most ? mountains can the truth be told or is it all in stories br br in this story about stories we revisit bloody battles poisoned lovers the folklore of old and the sometimes more treacherous folklore of accepted truth in doing so we each connect with angus as he lives the story of his own life br br ? the ? pinnacle is probably the most honest unpretentious and genuinely beautiful film of scotland ever made like angus i got slightly annoyed with the pretext of hanging stories on more stories but also like angus i ? this once i saw the ? picture ' forget the box office pastiche of braveheart and its like you might even ? the justly famous ? of the wicker man to see a film that is true to scotland this one is probably unique if you maybe ? on it deeply enough you might even re evaluate the power of storytelling and the age old question of whether there are some truths that cannot be told but only experienced\n"
          ],
          "name": "stdout"
        }
      ]
    },
    {
      "cell_type": "code",
      "metadata": {
        "id": "NlweRvfz24-u",
        "colab_type": "code",
        "outputId": "d6635e35-dfe6-4153-fdc3-7f1d601bc682",
        "colab": {
          "base_uri": "https://localhost:8080/",
          "height": 51
        }
      },
      "source": [
        "# Since vocabulary size is restricted to VOCAB_SIZE, no word index should be greater than VOCAB_SIZE\n",
        "max_index = max ( [max(review) for review in train_data] )\n",
        "\n",
        "print(\"VOCAB_SIZE          =\", VOCAB_SIZE)\n",
        "print(\"Max index of a word =\", max_index)"
      ],
      "execution_count": 6,
      "outputs": [
        {
          "output_type": "stream",
          "text": [
            "VOCAB_SIZE          = 20000\n",
            "Max index of a word = 19999\n"
          ],
          "name": "stdout"
        }
      ]
    },
    {
      "cell_type": "markdown",
      "metadata": {
        "id": "Yisbak53xnlf",
        "colab_type": "text"
      },
      "source": [
        "## Prepare the dataset \n",
        "##### Pad the integer sequences"
      ]
    },
    {
      "cell_type": "code",
      "metadata": {
        "id": "rnHvWH8kJ9fY",
        "colab_type": "code",
        "outputId": "bc9fb208-db32-47fb-d11a-0a25f15d5cf4",
        "colab": {
          "base_uri": "https://localhost:8080/",
          "height": 34
        }
      },
      "source": [
        "# Find and store the length of the longest review in the dataset\n",
        "max_train_length = max (len(review) for review in train_data)\n",
        "max_test_length = max (len(review) for review in test_data)\n",
        "\n",
        "max_length = max(max_train_length, max_test_length)\n",
        "print(\"Maximum length of a review in dataset:\", max_length)"
      ],
      "execution_count": 7,
      "outputs": [
        {
          "output_type": "stream",
          "text": [
            "Maximum length of a review in dataset: 2494\n"
          ],
          "name": "stdout"
        }
      ]
    },
    {
      "cell_type": "code",
      "metadata": {
        "id": "Hfz_O3p74Bfu",
        "colab_type": "code",
        "outputId": "cab28196-70b3-47d3-decb-a92efee3e7b8",
        "colab": {
          "base_uri": "https://localhost:8080/",
          "height": 68
        }
      },
      "source": [
        "from keras.preprocessing.sequence import pad_sequences\n",
        "\n",
        "# Pad each review in the dataset till their length = max_length\n",
        "print(\"Padding the reviews...\")\n",
        "train_data = pad_sequences (train_data, maxlen=max_length)\n",
        "test_data = pad_sequences (test_data, maxlen=max_length)\n",
        "\n",
        "print(\"Shape of train_data =\", train_data.shape)\n",
        "print(\"Shape of test_data  =\", test_data.shape)"
      ],
      "execution_count": 8,
      "outputs": [
        {
          "output_type": "stream",
          "text": [
            "Padding the reviews...\n",
            "Shape of train_data = (25000, 2494)\n",
            "Shape of test_data  = (25000, 2494)\n"
          ],
          "name": "stdout"
        }
      ]
    },
    {
      "cell_type": "markdown",
      "metadata": {
        "id": "70YJoC3JMGJ0",
        "colab_type": "text"
      },
      "source": [
        "## Build the model\n",
        "##### I build an RNN-LSTM architecure using Keras Sequential API"
      ]
    },
    {
      "cell_type": "code",
      "metadata": {
        "id": "VVXl7atyLK46",
        "colab_type": "code",
        "outputId": "53af3aeb-1fba-4d41-c449-ed5f82d92caa",
        "colab": {
          "base_uri": "https://localhost:8080/",
          "height": 357
        }
      },
      "source": [
        "from keras.models import Sequential\n",
        "from keras.layers import LSTM, Embedding, Dense, Dropout\n",
        "from keras.regularizers import l2\n",
        "\n",
        "model = Sequential()\n",
        "model.add(Embedding(input_dim=VOCAB_SIZE, \n",
        "                    output_dim=32,\n",
        "                    input_length=max_length))\n",
        "model.add(LSTM(units=128, \n",
        "               activation = 'tanh', \n",
        "               recurrent_activation = 'sigmoid', \n",
        "               dropout = 0.0, \n",
        "               recurrent_dropout = 0.0, \n",
        "               return_sequences = False,\n",
        "            #    kernel_regularizer = l2(0.01),\n",
        "            #    recurrent_regularizer = l2(0.01),\n",
        "            #    bias_regularizer = l2(0.01)\n",
        "            ))\n",
        "model.add(Dense(units = 64,\n",
        "                activation = 'relu'))\n",
        "model.add(Dropout(0.3))\n",
        "model.add(Dense(units = 32,\n",
        "                activation = 'relu'))\n",
        "model.add(Dense(units = 1, \n",
        "                activation = 'sigmoid'))\n",
        "\n",
        "model.summary()"
      ],
      "execution_count": 13,
      "outputs": [
        {
          "output_type": "stream",
          "text": [
            "Model: \"sequential_2\"\n",
            "_________________________________________________________________\n",
            "Layer (type)                 Output Shape              Param #   \n",
            "=================================================================\n",
            "embedding_2 (Embedding)      (None, 2494, 32)          640000    \n",
            "_________________________________________________________________\n",
            "lstm_2 (LSTM)                (None, 128)               82432     \n",
            "_________________________________________________________________\n",
            "dense_4 (Dense)              (None, 64)                8256      \n",
            "_________________________________________________________________\n",
            "dropout_2 (Dropout)          (None, 64)                0         \n",
            "_________________________________________________________________\n",
            "dense_5 (Dense)              (None, 32)                2080      \n",
            "_________________________________________________________________\n",
            "dense_6 (Dense)              (None, 1)                 33        \n",
            "=================================================================\n",
            "Total params: 732,801\n",
            "Trainable params: 732,801\n",
            "Non-trainable params: 0\n",
            "_________________________________________________________________\n"
          ],
          "name": "stdout"
        }
      ]
    },
    {
      "cell_type": "code",
      "metadata": {
        "id": "oPDazRXt-pJy",
        "colab_type": "code",
        "colab": {}
      },
      "source": [
        "model.compile(optimizer = 'adam', \n",
        "              loss = 'binary_crossentropy', \n",
        "              metrics = ['acc'])"
      ],
      "execution_count": 0,
      "outputs": []
    },
    {
      "cell_type": "markdown",
      "metadata": {
        "id": "XaidKvZdngTv",
        "colab_type": "text"
      },
      "source": [
        "## Train the model and tune the Hyperparameters"
      ]
    },
    {
      "cell_type": "code",
      "metadata": {
        "id": "srGUBB9bCV7e",
        "colab_type": "code",
        "colab": {}
      },
      "source": [
        "from keras.callbacks import ModelCheckpoint, EarlyStopping, LearningRateScheduler, ReduceLROnPlateau, TerminateOnNaN\n",
        "\n",
        "callback_list = [\n",
        "                 ModelCheckpoint(\n",
        "                     filepath = '/content/drive/My Drive/Personal/Sentiment_Analysis/best_LSTMmodel_2.hdf5',\n",
        "                     monitor = 'val_acc',\n",
        "                     verbose = 1,\n",
        "                     save_best_only = True,\n",
        "                     save_weights_only = False,\n",
        "                     mode = 'max',\n",
        "                     period = 1\n",
        "                 ),\n",
        "                 \n",
        "                 EarlyStopping(\n",
        "                    monitor = 'val_acc',\n",
        "                    patience = 10,\n",
        "                    verbose = 1,\n",
        "                    mode = 'max',\n",
        "                    baseline = 0.5,\n",
        "                    restore_best_weights = True\n",
        "                 ),\n",
        "\n",
        "                 ReduceLROnPlateau(\n",
        "                     monitor = 'val_loss',\n",
        "                     factor = 0.2,\n",
        "                     patience = 5,\n",
        "                     verbose = 1,\n",
        "                     mode = 'min',\n",
        "                     cooldown = 1,\n",
        "                     min_lr = 0,\n",
        "                 ),\n",
        "\n",
        "                 TerminateOnNaN()\n",
        "]"
      ],
      "execution_count": 0,
      "outputs": []
    },
    {
      "cell_type": "code",
      "metadata": {
        "id": "944F5tXV-RIb",
        "colab_type": "code",
        "outputId": "e7fccc58-dfd9-4849-90b1-7a6fda1315e7",
        "colab": {
          "base_uri": "https://localhost:8080/",
          "height": 1000
        }
      },
      "source": [
        "history = model.fit(train_data,\n",
        "                    train_labels,\n",
        "                    batch_size = 64,\n",
        "                    epochs = 100,\n",
        "                    verbose = 1,\n",
        "                    callbacks = callback_list,\n",
        "                    validation_split = 0.00512,\n",
        "                    shuffle = True)"
      ],
      "execution_count": 16,
      "outputs": [
        {
          "output_type": "stream",
          "text": [
            "/usr/local/lib/python3.6/dist-packages/tensorflow/python/framework/indexed_slices.py:434: UserWarning: Converting sparse IndexedSlices to a dense Tensor of unknown shape. This may consume a large amount of memory.\n",
            "  \"Converting sparse IndexedSlices to a dense Tensor of unknown shape. \"\n"
          ],
          "name": "stderr"
        },
        {
          "output_type": "stream",
          "text": [
            "Train on 24872 samples, validate on 128 samples\n",
            "Epoch 1/100\n",
            "24872/24872 [==============================] - 2036s 82ms/step - loss: 0.4689 - acc: 0.7699 - val_loss: 0.2774 - val_acc: 0.8906\n",
            "\n",
            "Epoch 00001: val_acc improved from -inf to 0.89062, saving model to /content/drive/My Drive/Personal/Sentiment_Analysis/best_LSTMmodel_2.hdf5\n",
            "Epoch 2/100\n",
            "24872/24872 [==============================] - 2055s 83ms/step - loss: 0.2669 - acc: 0.9013 - val_loss: 0.2442 - val_acc: 0.8906\n",
            "\n",
            "Epoch 00002: val_acc did not improve from 0.89062\n",
            "Epoch 3/100\n",
            "24872/24872 [==============================] - 2043s 82ms/step - loss: 0.1822 - acc: 0.9341 - val_loss: 0.3359 - val_acc: 0.8750\n",
            "\n",
            "Epoch 00003: val_acc did not improve from 0.89062\n",
            "Epoch 4/100\n",
            "24872/24872 [==============================] - 2047s 82ms/step - loss: 0.1231 - acc: 0.9584 - val_loss: 0.2861 - val_acc: 0.8828\n",
            "\n",
            "Epoch 00004: val_acc did not improve from 0.89062\n",
            "Epoch 5/100\n",
            "24872/24872 [==============================] - 2052s 82ms/step - loss: 0.0960 - acc: 0.9680 - val_loss: 0.3478 - val_acc: 0.8906\n",
            "\n",
            "Epoch 00005: val_acc did not improve from 0.89062\n",
            "Epoch 6/100\n",
            "24872/24872 [==============================] - 2046s 82ms/step - loss: 0.0570 - acc: 0.9817 - val_loss: 0.3575 - val_acc: 0.9062\n",
            "\n",
            "Epoch 00006: val_acc improved from 0.89062 to 0.90625, saving model to /content/drive/My Drive/Personal/Sentiment_Analysis/best_LSTMmodel_2.hdf5\n",
            "Epoch 7/100\n",
            "24872/24872 [==============================] - 2055s 83ms/step - loss: 0.0552 - acc: 0.9817 - val_loss: 0.3576 - val_acc: 0.8828\n",
            "\n",
            "Epoch 00007: val_acc did not improve from 0.90625\n",
            "\n",
            "Epoch 00007: ReduceLROnPlateau reducing learning rate to 0.00020000000949949026.\n",
            "Epoch 8/100\n",
            "24872/24872 [==============================] - 2044s 82ms/step - loss: 0.0303 - acc: 0.9910 - val_loss: 0.4031 - val_acc: 0.8984\n",
            "\n",
            "Epoch 00008: val_acc did not improve from 0.90625\n",
            "Epoch 9/100\n",
            "24872/24872 [==============================] - 2056s 83ms/step - loss: 0.0139 - acc: 0.9969 - val_loss: 0.4881 - val_acc: 0.9062\n",
            "\n",
            "Epoch 00009: val_acc did not improve from 0.90625\n",
            "Epoch 10/100\n",
            "24872/24872 [==============================] - 2052s 82ms/step - loss: 0.0078 - acc: 0.9986 - val_loss: 0.4947 - val_acc: 0.9062\n",
            "\n",
            "Epoch 00010: val_acc did not improve from 0.90625\n",
            "Epoch 11/100\n",
            "24872/24872 [==============================] - 2060s 83ms/step - loss: 0.0059 - acc: 0.9992 - val_loss: 0.5544 - val_acc: 0.8984\n",
            "\n",
            "Epoch 00011: val_acc did not improve from 0.90625\n",
            "Epoch 12/100\n",
            "24872/24872 [==============================] - 2061s 83ms/step - loss: 0.0042 - acc: 0.9994 - val_loss: 0.6207 - val_acc: 0.8906\n",
            "\n",
            "Epoch 00012: val_acc did not improve from 0.90625\n",
            "\n",
            "Epoch 00012: ReduceLROnPlateau reducing learning rate to 4.0000001899898055e-05.\n",
            "Epoch 13/100\n",
            "24872/24872 [==============================] - 2056s 83ms/step - loss: 0.0028 - acc: 0.9996 - val_loss: 0.6059 - val_acc: 0.8984\n",
            "\n",
            "Epoch 00013: val_acc did not improve from 0.90625\n",
            "Epoch 14/100\n",
            "24872/24872 [==============================] - 2054s 83ms/step - loss: 0.0028 - acc: 0.9996 - val_loss: 0.6234 - val_acc: 0.8906\n",
            "\n",
            "Epoch 00014: val_acc did not improve from 0.90625\n",
            "Epoch 15/100\n",
            "24872/24872 [==============================] - 2039s 82ms/step - loss: 0.0025 - acc: 0.9996 - val_loss: 0.6171 - val_acc: 0.8984\n",
            "\n",
            "Epoch 00015: val_acc did not improve from 0.90625\n",
            "Epoch 16/100\n",
            "24872/24872 [==============================] - 2062s 83ms/step - loss: 0.0024 - acc: 0.9996 - val_loss: 0.6392 - val_acc: 0.8984\n",
            "\n",
            "Epoch 00016: val_acc did not improve from 0.90625\n",
            "Restoring model weights from the end of the best epoch\n",
            "Epoch 00016: early stopping\n"
          ],
          "name": "stdout"
        }
      ]
    },
    {
      "cell_type": "code",
      "metadata": {
        "id": "cclxM43M-uMA",
        "colab_type": "code",
        "outputId": "47de3994-2077-42e9-e6f7-7a6420a89fe9",
        "colab": {
          "base_uri": "https://localhost:8080/",
          "height": 51
        }
      },
      "source": [
        "print(\"Best Validation Accuracy =\", max(history.history['val_acc'])*100)\n",
        "print(\"Best Training Accuracy   =\", max(history.history['acc'])*100)"
      ],
      "execution_count": 18,
      "outputs": [
        {
          "output_type": "stream",
          "text": [
            "Best Validation Accuracy = 90.625\n",
            "Best Training Accuracy   = 99.96381402015686\n"
          ],
          "name": "stdout"
        }
      ]
    },
    {
      "cell_type": "markdown",
      "metadata": {
        "id": "R_qz4VyARJvA",
        "colab_type": "text"
      },
      "source": [
        "## Plot the results"
      ]
    },
    {
      "cell_type": "code",
      "metadata": {
        "id": "qVyJ9YwwMou3",
        "colab_type": "code",
        "outputId": "521b39d2-b46c-42a0-eccc-c639bd8070f4",
        "colab": {
          "base_uri": "https://localhost:8080/",
          "height": 295
        }
      },
      "source": [
        "import matplotlib.pyplot as plt\n",
        "\n",
        "train_acc = history.history['acc']\n",
        "val_acc = history.history['val_acc']\n",
        "\n",
        "epochs = range(1, len(train_acc) + 1)\n",
        "\n",
        "plt.plot(epochs, train_acc, 'bo', label='Training accuracy')\n",
        "plt.plot(epochs, val_acc, 'b', label='Validation accuracy')\n",
        "plt.title('Training & Validation accuracy')\n",
        "plt.xlabel('Epochs')\n",
        "plt.ylabel('Accuracy')\n",
        "plt.legend()\n",
        "\n",
        "plt.show()"
      ],
      "execution_count": 29,
      "outputs": [
        {
          "output_type": "display_data",
          "data": {
            "image/png": "[encoded data removed]",
            "text/plain": [
              "<Figure size 432x288 with 1 Axes>"
            ]
          },
          "metadata": {
            "tags": [],
            "needs_background": "light"
          }
        }
      ]
    },
    {
      "cell_type": "code",
      "metadata": {
        "id": "pfWPq9BsEAly",
        "colab_type": "code",
        "outputId": "95613a22-8944-422f-e549-de50cbeabfdd",
        "colab": {
          "base_uri": "https://localhost:8080/",
          "height": 295
        }
      },
      "source": [
        "train_loss = history.history['loss']\n",
        "val_loss = history.history['val_loss']\n",
        "\n",
        "plt.plot(epochs, train_loss, 'bo', label=\"Training loss\")\n",
        "plt.plot(epochs, val_loss, 'b', label='Validation loss')\n",
        "plt.title('Training & Validation loss')\n",
        "plt.xlabel('Epochs')\n",
        "plt.ylabel('Loss')\n",
        "plt.legend()\n",
        "\n",
        "plt.show()"
      ],
      "execution_count": 24,
      "outputs": [
        {
          "output_type": "display_data",
          "data": {
            "image/png": "[encoded data removed]",
            "text/plain": [
              "<Figure size 432x288 with 1 Axes>"
            ]
          },
          "metadata": {
            "tags": [],
            "needs_background": "light"
          }
        }
      ]
    },
    {
      "cell_type": "markdown",
      "metadata": {
        "id": "ad7sVK_UnYv1",
        "colab_type": "text"
      },
      "source": [
        "## Train the final model and test it"
      ]
    },
    {
      "cell_type": "code",
      "metadata": {
        "id": "KK0TANU4oMcy",
        "colab_type": "code",
        "colab": {
          "base_uri": "https://localhost:8080/",
          "height": 34
        },
        "outputId": "b2205282-6188-4a35-e894-7c7218da40eb"
      },
      "source": [
        "test_metrics = model.evaluate(test_data, test_labels)"
      ],
      "execution_count": 25,
      "outputs": [
        {
          "output_type": "stream",
          "text": [
            "25000/25000 [==============================] - 515s 21ms/step\n"
          ],
          "name": "stdout"
        }
      ]
    },
    {
      "cell_type": "code",
      "metadata": {
        "id": "R1eGukfaBTVG",
        "colab_type": "code",
        "colab": {
          "base_uri": "https://localhost:8080/",
          "height": 34
        },
        "outputId": "6ad143ed-f095-4f25-8a33-a8c0a01c0c8c"
      },
      "source": [
        "test_accuracy = test_metrics[1] \n",
        "test_loss = test_metrics[0]\n",
        "print(\"Test Accuracy :\", test_accuracy)"
      ],
      "execution_count": 27,
      "outputs": [
        {
          "output_type": "stream",
          "text": [
            "Test Accuracy : 0.8591200113296509\n"
          ],
          "name": "stdout"
        }
      ]
    },
    {
      "cell_type": "code",
      "metadata": {
        "id": "LQankNg0Eght",
        "colab_type": "code",
        "colab": {}
      },
      "source": [
        ""
      ],
      "execution_count": 0,
      "outputs": []
    }
  ]
}